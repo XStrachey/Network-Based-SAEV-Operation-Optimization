{
 "cells": [
  {
   "cell_type": "code",
   "execution_count": 13,
   "id": "e3ec25a0",
   "metadata": {},
   "outputs": [
    {
     "name": "stdout",
     "output_type": "stream",
     "text": [
      "t    float64\n",
      "i    float64\n",
      "j    float64\n",
      "dtype: object\n",
      "自环数： 0\n",
      "count    95276.0\n",
      "mean         0.0\n",
      "std          0.0\n",
      "min          0.0\n",
      "25%          0.0\n",
      "50%          0.0\n",
      "75%          0.0\n",
      "max          0.0\n",
      "Name: cost, dtype: float64\n"
     ]
    }
   ],
   "source": [
    "import pandas as pd\n",
    "arcs = pd.read_parquet(\"data/solver_graph/arcs.parquet\")\n",
    "specific_arc = arcs[arcs.arc_type==\"svc_enter\"].copy()\n",
    "\n",
    "print(specific_arc[[\"t\",\"i\",\"j\"]].dtypes)          # 看类型是否都是 int\n",
    "print(\"自环数：\", (specific_arc.from_node_id==specific_arc.to_node_id).sum())\n",
    "print(specific_arc[\"cost\"].describe())             # 如果全 0，这就印证了问题"
   ]
  },
  {
   "cell_type": "code",
   "execution_count": 14,
   "id": "38e552bf",
   "metadata": {},
   "outputs": [
    {
     "name": "stdout",
     "output_type": "stream",
     "text": [
      "              flow  cost_contrib\n",
      "arc_type                        \n",
      "svc_gate     600.0     -102000.0\n",
      "chg_enter      0.0           0.0\n",
      "chg_occ        0.0           0.0\n",
      "chg_step       0.0           0.0\n",
      "idle        1564.0           0.0\n",
      "reposition     0.0           0.0\n",
      "svc_enter    600.0           0.0\n",
      "svc_exit     600.0           0.0\n",
      "to_sink      200.0           0.0\n",
      "tochg          0.0           0.0\n"
     ]
    }
   ],
   "source": [
    "import pandas as pd\n",
    "arcs = pd.read_parquet(\"data/solver_graph/arcs.parquet\")[[\"arc_id\",\"arc_type\",\"cost\"]]\n",
    "flows = pd.read_parquet(\"outputs/flows.parquet\")[[\"arc_id\",\"flow\"]]\n",
    "df = flows.merge(arcs, on=\"arc_id\", how=\"left\")\n",
    "print(df.assign(cost_contrib=df.flow*df.cost)\n",
    "        .groupby(\"arc_type\")[[\"flow\",\"cost_contrib\"]]\n",
    "        .sum().sort_values(\"cost_contrib\"))\n"
   ]
  }
 ],
 "metadata": {
  "kernelspec": {
   "display_name": "Python 3",
   "language": "python",
   "name": "python3"
  },
  "language_info": {
   "codemirror_mode": {
    "name": "ipython",
    "version": 3
   },
   "file_extension": ".py",
   "mimetype": "text/x-python",
   "name": "python",
   "nbconvert_exporter": "python",
   "pygments_lexer": "ipython3",
   "version": "3.11.8"
  }
 },
 "nbformat": 4,
 "nbformat_minor": 5
}
