{
 "cells": [
  {
   "cell_type": "code",
   "execution_count": 11,
   "id": "d49e479b",
   "metadata": {},
   "outputs": [
    {
     "name": "stdout",
     "output_type": "stream",
     "text": [
      "共 3 个步骤；日志目录：logs/pipeline/20250928_004830\n",
      "\n",
      "=== [01/3] _01_build_solver_graph.py ===\n",
      "▶ [_01_build_solver_graph.py] 开始（第 1/1 次）…\n",
      "❌ [_01_build_solver_graph.py] 退出码 1（0.41s），查看日志：logs/pipeline/20250928_004830/20250928_004830___01_build_solver_graph.py.log\n",
      "\n",
      "⛔ 检测到失败，配置为遇错停止。结束执行。\n",
      "\n",
      "===== 执行总结 =====\n",
      "[FAIL] _01_build_solver_graph.py  (0.41s)  log: logs/pipeline/20250928_004830/20250928_004830___01_build_solver_graph.py.log\n",
      "\n",
      "结果：2 成功，1 失败。退出码 1\n"
     ]
    },
    {
     "data": {
      "text/plain": [
       "1"
      ]
     },
     "execution_count": 11,
     "metadata": {},
     "output_type": "execute_result"
    }
   ],
   "source": [
    "import run_pipeline\n",
    "# 直接跑默认 ./pipeline.json\n",
    "run_pipeline.run()"
   ]
  }
 ],
 "metadata": {
  "kernelspec": {
   "display_name": "Python 3",
   "language": "python",
   "name": "python3"
  },
  "language_info": {
   "codemirror_mode": {
    "name": "ipython",
    "version": 3
   },
   "file_extension": ".py",
   "mimetype": "text/x-python",
   "name": "python",
   "nbconvert_exporter": "python",
   "pygments_lexer": "ipython3",
   "version": "3.11.8"
  }
 },
 "nbformat": 4,
 "nbformat_minor": 5
}
