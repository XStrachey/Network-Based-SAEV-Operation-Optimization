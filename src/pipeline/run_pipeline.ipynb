{
 "cells": [
  {
   "cell_type": "code",
   "execution_count": 13,
   "id": "d49e479b",
   "metadata": {},
   "outputs": [
    {
     "name": "stdout",
     "output_type": "stream",
     "text": [
      "共 2 个步骤；日志目录：logs/pipeline/20250927_220615\n",
      "\n",
      "=== [01/2] _08_build_solver_graph.py ===\n",
      "▶ [_08_build_solver_graph.py] 开始（第 1/1 次）…\n",
      "[build_time_soc_grid] Saved artifacts:\n",
      "  - n_zones: 2\n",
      "  - n_times: 100\n",
      "  - n_socs: 21\n",
      "  - num_nodes: 4200\n",
      "  - nodes_path: data/intermediate/nodes.parquet\n",
      "  - initial_inventory_path: data/intermediate/initial_inventory.parquet\n",
      "  - init_total: 200.0\n",
      "  - init_soc_levels_used: [80]\n",
      "  - time_range: [1, 100]\n",
      "  - overhang_steps: 4\n",
      "[ArcAssembly] 初始化 idle 弧生成器\n",
      "[ArcAssembly] 初始化 service 弧生成器\n",
      "[ArcAssembly] 初始化 reposition 弧生成器\n",
      "[ArcAssembly] 初始化 charging 弧生成器\n",
      "[ArcAssembly] 生成 idle 弧...\n",
      "[ArcAssembly] idle 弧: 3548 条\n",
      "[ArcAssembly] 生成 service 弧...\n",
      "[ArcAssembly] service 弧: 6026 条\n",
      "[ArcAssembly] 生成 reposition 弧...\n",
      "[ArcAssembly] reposition 弧: 946 条\n",
      "[ArcAssembly] 生成 charging 弧...\n",
      "[ArcAssembly] charging 弧: 6488 条\n",
      "[solver-graph] 重定位弧数量控制已通过需求驱动的生成端实现\n",
      "[solver-graph] done.\n",
      "  use cfg: t0=1 (start_step), H=92 (window_length), t_hi=93\n",
      "  architecture: new_oop\n",
      "  nodes: 4,506 -> data/solver_graph/nodes.parquet\n",
      "  arcs : 15,571 -> data/solver_graph/arcs.parquet\n",
      "  meta : data/solver_graph/meta.json\n",
      "✅ [_08_build_solver_graph.py] 成功（2.30s）日志：logs/pipeline/20250927_220615/20250927_220615___08_build_solver_graph.py.log\n",
      "\n",
      "=== [02/2] _09_solve_graph_mincost.py ===\n",
      "▶ [_09_solve_graph_mincost.py] 开始（第 1/1 次）…\n",
      ".0\n",
      "4506 rows, 15571 columns, 31142 non-zeros\n",
      "Preprocessing...\n",
      "4332 rows, 15181 columns, 30362 non-zeros\n",
      "Scaling...\n",
      " A: min|aij| =  1.000e+00  max|aij| =  1.000e+00  ratio =  1.000e+00\n",
      "Problem data seem to be well scaled\n",
      "Constructing initial basis...\n",
      "Size of triangular part is 4068\n",
      "      0: obj =  -3.140000000e+03 inf =   5.790e+02 (5)\n",
      "    727: obj =  -5.322969633e+04 inf =   0.000e+00 (0) 4\n",
      "*  1468: obj =  -7.765593530e+04 inf =   0.000e+00 (0) 5\n",
      "OPTIMAL LP SOLUTION FOUND\n",
      "Time used:   0.2 secs\n",
      "Memory used: 12.3 Mb (12868612 bytes)\n",
      "Writing basic solution to '/var/folders/_x/43n5hx2d6hqf1v6v65qbln8c0000gn/T/e2df06c549ee48499f7be45cf95e7b44-pulp.out'...\n",
      "Writing basic solution to '/var/folders/_x/43n5hx2d6hqf1v6v65qbln8c0000gn/T/e2df06c549ee48499f7be45cf95e7b44-pulp.sol'...\n",
      "20086 lines were written\n",
      "[solver] done.\n",
      "  status      = Optimal\n",
      "  objective   = -77655.9\n",
      "  total_cost  = -77655.9\n",
      "  total_flow  = 17904\n",
      "  arcs output -> outputs/flows.parquet\n",
      "  summary     -> outputs/solve_summary.json\n",
      "✅ [_09_solve_graph_mincost.py] 成功（1.02s）日志：logs/pipeline/20250927_220615/20250927_220617___09_solve_graph_mincost.py.log\n",
      "\n",
      "===== 执行总结 =====\n",
      "[OK] _08_build_solver_graph.py  (2.30s)  log: logs/pipeline/20250927_220615/20250927_220615___08_build_solver_graph.py.log\n",
      "[OK] _09_solve_graph_mincost.py  (1.02s)  log: logs/pipeline/20250927_220615/20250927_220617___09_solve_graph_mincost.py.log\n",
      "\n",
      "结果：全部 2 成功。退出码 0\n"
     ]
    },
    {
     "data": {
      "text/plain": [
       "0"
      ]
     },
     "execution_count": 13,
     "metadata": {},
     "output_type": "execute_result"
    }
   ],
   "source": [
    "import run_pipeline\n",
    "# 直接跑默认 ./pipeline.json\n",
    "run_pipeline.run()"
   ]
  }
 ],
 "metadata": {
  "kernelspec": {
   "display_name": "Python 3",
   "language": "python",
   "name": "python3"
  },
  "language_info": {
   "codemirror_mode": {
    "name": "ipython",
    "version": 3
   },
   "file_extension": ".py",
   "mimetype": "text/x-python",
   "name": "python",
   "nbconvert_exporter": "python",
   "pygments_lexer": "ipython3",
   "version": "3.11.8"
  }
 },
 "nbformat": 4,
 "nbformat_minor": 5
}
