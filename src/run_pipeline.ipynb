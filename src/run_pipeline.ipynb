{
 "cells": [
  {
   "cell_type": "code",
   "execution_count": null,
   "id": "d49e479b",
   "metadata": {},
   "outputs": [
    {
     "name": "stdout",
     "output_type": "stream",
     "text": [
      "共 2 个步骤；日志目录：logs/pipeline/20250927_023507\n",
      "\n",
      "=== [01/2] _08_build_solver_graph.py ===\n",
      "▶ [_08_build_solver_graph.py] 开始（第 1/1 次）…\n"
     ]
    }
   ],
   "source": [
    "import run_pipeline\n",
    "# 直接跑默认 ./pipeline.json\n",
    "run_pipeline.run()"
   ]
  }
 ],
 "metadata": {
  "kernelspec": {
   "display_name": "Python 3",
   "language": "python",
   "name": "python3"
  },
  "language_info": {
   "codemirror_mode": {
    "name": "ipython",
    "version": 3
   },
   "file_extension": ".py",
   "mimetype": "text/x-python",
   "name": "python",
   "nbconvert_exporter": "python",
   "pygments_lexer": "ipython3",
   "version": "3.11.8"
  }
 },
 "nbformat": 4,
 "nbformat_minor": 5
}
