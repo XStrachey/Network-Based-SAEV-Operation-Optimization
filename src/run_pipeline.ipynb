{
 "cells": [
  {
   "cell_type": "code",
   "execution_count": 40,
   "id": "d49e479b",
   "metadata": {},
   "outputs": [
    {
     "name": "stdout",
     "output_type": "stream",
     "text": [
      "共 3 个步骤；日志目录：logs/pipeline/20250927_200142\n",
      "\n",
      "=== [01/3] clear_cache.py ===\n",
      "▶ [clear_cache.py] 开始（第 1/1 次）…\n",
      "缓存清理工具\n",
      "用法: python clear_cache.py [grid|reachability|solver|all]\n",
      "  grid        - 清理网格缓存（包括time_index.json等）\n",
      "  reachability - 清理可达性缓存\n",
      "  solver      - 清理求解器图缓存\n",
      "  all         - 清理所有缓存\n",
      "✅ [clear_cache.py] 成功（0.06s）日志：logs/pipeline/20250927_200142/20250927_200142__clear_cache.py.log\n",
      "\n",
      "=== [02/3] _08_build_solver_graph.py ===\n",
      "▶ [_08_build_solver_graph.py] 开始（第 1/1 次）…\n",
      "[build_time_soc_grid] Saved artifacts:\n",
      "  - n_zones: 2\n",
      "  - n_times: 100\n",
      "  - n_socs: 21\n",
      "  - num_nodes: 4200\n",
      "  - nodes_path: data/intermediate/nodes.parquet\n",
      "  - initial_inventory_path: data/intermediate/initial_inventory.parquet\n",
      "  - init_total: 300.0\n",
      "  - init_soc_levels_used: [80]\n",
      "  - time_range: [1, 100]\n",
      "  - overhang_steps: 4\n",
      "[solver-graph] 重定位弧数量控制已通过需求驱动的生成端实现\n",
      "[solver-graph] done.\n",
      "  use cfg: t0=1 (start_step), H=92 (window_length), t_hi=93\n",
      "  nodes: 4,533 -> data/solver_graph/nodes.parquet\n",
      "  arcs : 12,235 -> data/solver_graph/arcs.parquet\n",
      "  meta : data/solver_graph/meta.json\n",
      "✅ [_08_build_solver_graph.py] 成功（1.80s）日志：logs/pipeline/20250927_200142/20250927_200142___08_build_solver_graph.py.log\n",
      "\n",
      "=== [03/3] _09_solve_graph_mincost.py ===\n",
      "▶ [_09_solve_graph_mincost.py] 开始（第 1/1 次）…\n",
      "5.0\n",
      "4533 rows, 12235 columns, 24470 non-zeros\n",
      "Preprocessing...\n",
      "4408 rows, 12006 columns, 24012 non-zeros\n",
      "Scaling...\n",
      " A: min|aij| =  1.000e+00  max|aij| =  1.000e+00  ratio =  1.000e+00\n",
      "Problem data seem to be well scaled\n",
      "Constructing initial basis...\n",
      "Size of triangular part is 4233\n",
      "      0: obj =  -4.210000000e+03 inf =   8.600e+02 (5)\n",
      "    802: obj =  -7.618700172e+04 inf =   0.000e+00 (0) 4\n",
      "*  1707: obj =  -1.205666546e+05 inf =   0.000e+00 (0) 6\n",
      "OPTIMAL LP SOLUTION FOUND\n",
      "Time used:   0.2 secs\n",
      "Memory used: 10.1 Mb (10587921 bytes)\n",
      "Writing basic solution to '/var/folders/_x/43n5hx2d6hqf1v6v65qbln8c0000gn/T/3c321e7e5cbe48f0a99e2be2371cbbdc-pulp.out'...\n",
      "Writing basic solution to '/var/folders/_x/43n5hx2d6hqf1v6v65qbln8c0000gn/T/3c321e7e5cbe48f0a99e2be2371cbbdc-pulp.sol'...\n",
      "16777 lines were written\n",
      "[solver] done.\n",
      "  status      = Optimal\n",
      "  objective   = -120567\n",
      "  total_cost  = -120567\n",
      "  total_flow  = 28422\n",
      "  arcs output -> outputs/flows.parquet\n",
      "  summary     -> outputs/solve_summary.json\n",
      "✅ [_09_solve_graph_mincost.py] 成功（0.96s）日志：logs/pipeline/20250927_200142/20250927_200144___09_solve_graph_mincost.py.log\n",
      "\n",
      "===== 执行总结 =====\n",
      "[OK] clear_cache.py  (0.06s)  log: logs/pipeline/20250927_200142/20250927_200142__clear_cache.py.log\n",
      "[OK] _08_build_solver_graph.py  (1.80s)  log: logs/pipeline/20250927_200142/20250927_200142___08_build_solver_graph.py.log\n",
      "[OK] _09_solve_graph_mincost.py  (0.96s)  log: logs/pipeline/20250927_200142/20250927_200144___09_solve_graph_mincost.py.log\n",
      "\n",
      "结果：全部 3 成功。退出码 0\n"
     ]
    },
    {
     "data": {
      "text/plain": [
       "0"
      ]
     },
     "execution_count": 40,
     "metadata": {},
     "output_type": "execute_result"
    }
   ],
   "source": [
    "import run_pipeline\n",
    "# 直接跑默认 ./pipeline.json\n",
    "run_pipeline.run()"
   ]
  }
 ],
 "metadata": {
  "kernelspec": {
   "display_name": "Python 3",
   "language": "python",
   "name": "python3"
  },
  "language_info": {
   "codemirror_mode": {
    "name": "ipython",
    "version": 3
   },
   "file_extension": ".py",
   "mimetype": "text/x-python",
   "name": "python",
   "nbconvert_exporter": "python",
   "pygments_lexer": "ipython3",
   "version": "3.11.8"
  }
 },
 "nbformat": 4,
 "nbformat_minor": 5
}
