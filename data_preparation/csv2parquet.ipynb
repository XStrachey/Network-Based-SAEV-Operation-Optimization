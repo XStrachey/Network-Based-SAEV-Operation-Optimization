{
 "cells": [
  {
   "cell_type": "code",
   "execution_count": 3,
   "id": "5cc3737f",
   "metadata": {},
   "outputs": [],
   "source": [
    "import pandas as pd\n",
    "\n",
    "# 读 CSV\n",
    "df = pd.read_csv(\"../data/base_ij.csv\")  # 可能需要指定 encoding、sep、dtype 等\n",
    "\n",
    "# 写 Parquet（需要安装 pyarrow 或 fastparquet）\n",
    "df.to_parquet(\"../data/base_ij.parquet\", index=False)"
   ]
  }
 ],
 "metadata": {
  "kernelspec": {
   "display_name": "Python 3",
   "language": "python",
   "name": "python3"
  },
  "language_info": {
   "codemirror_mode": {
    "name": "ipython",
    "version": 3
   },
   "file_extension": ".py",
   "mimetype": "text/x-python",
   "name": "python",
   "nbconvert_exporter": "python",
   "pygments_lexer": "ipython3",
   "version": "3.11.8"
  }
 },
 "nbformat": 4,
 "nbformat_minor": 5
}
