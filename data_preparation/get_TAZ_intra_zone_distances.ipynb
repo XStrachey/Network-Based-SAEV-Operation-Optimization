{
 "cells": [
  {
   "cell_type": "markdown",
   "id": "62307263",
   "metadata": {},
   "source": [
    "# 基于 Census Tract Block 的 TAZ 内部距离计算（Notebook 版 - 生成 i=j 内部距离）\n",
    "\n",
    "本 notebook 将脚本改写为可交互运行的 `ipynb` 版本（去除 `argparse`，用参数单元格控制）：\n",
    "- 读取 **LODES**（block 级 OD）、**Census Block**（shapefile）、**zones**（包含 `zone` 列）；\n",
    "- 计算每个 **TAZ** 的内部 block 间距离统计（km）；\n",
    "- 生成 `intra_zone_distances`（i=j），并保存为 Parquet。\n",
    "\n",
    "> 依赖：`pandas`, `geopandas`, `numpy`, `shapely`\n"
   ]
  },
  {
   "cell_type": "code",
   "execution_count": 40,
   "id": "61a44ed1",
   "metadata": {},
   "outputs": [],
   "source": [
    "# === 参数设置（根据需要修改） ===\n",
    "lodes_path = \"../data/raw data/lodes.csv\"                      # LODES 数据路径\n",
    "blocks_path = \"../data/raw data/tl_2022_48_tabblock20.shp\"     # Block shapefile 路径\n",
    "zones_path = \"../data/zones.csv\"                               # 区域列表（需包含 'zone' 列）\n",
    "output_path = \"../data/intra_zone_distances.parquet\"           # 输出路径\n",
    "stat_method = \"mean\"                                        # 可选: \"mean\" | \"median\" | \"min\" | \"max\"\n",
    "analyze_only = False                                        # True 则仅分析，不生成/保存结果\n"
   ]
  },
  {
   "cell_type": "code",
   "execution_count": 41,
   "id": "f60a06e0",
   "metadata": {},
   "outputs": [],
   "source": [
    "# === 导入依赖 ===\n",
    "import pandas as pd\n",
    "import geopandas as gpd\n",
    "import numpy as np\n",
    "from pathlib import Path\n",
    "from typing import Dict, Tuple\n",
    "from shapely.geometry import Point\n",
    "import math\n",
    "\n",
    "pd.set_option(\"display.max_columns\", 100)\n"
   ]
  },
  {
   "cell_type": "markdown",
   "id": "5f75c775",
   "metadata": {},
   "source": [
    "## 函数定义"
   ]
  },
  {
   "cell_type": "code",
   "execution_count": 42,
   "id": "dc945ec9",
   "metadata": {},
   "outputs": [],
   "source": [
    "def load_and_prepare_data(\n",
    "    lodes_path: str,\n",
    "    blocks_path: str\n",
    ") -> Tuple[pd.DataFrame, gpd.GeoDataFrame]:\n",
    "    \"\"\"加载和准备 LODES 和 Census Block 数据。\"\"\"\n",
    "    print(\"加载 LODES 数据...\")\n",
    "    lodes = pd.read_csv(lodes_path)\n",
    "    \n",
    "    print(\"加载 Census Tract Block 数据...\")\n",
    "    blocks = gpd.read_file(blocks_path)\n",
    "    \n",
    "    # 类型清洗\n",
    "    blocks['GEOID20'] = blocks['GEOID20'].astype(str)\n",
    "    lodes['w_geocode'] = lodes['w_geocode'].astype(str)\n",
    "    lodes['h_geocode'] = lodes['h_geocode'].astype(str)\n",
    "    lodes['w_zone'] = lodes['w_zone'].astype(str).str.replace('.0', '', regex=False)\n",
    "    lodes['h_zone'] = lodes['h_zone'].astype(str).str.replace('.0', '', regex=False)\n",
    "    \n",
    "    print(f\"LODES 数据: {len(lodes)} 条记录\")\n",
    "    print(f\"Block 数据: {len(blocks)} 个 block\")\n",
    "    return lodes, blocks\n"
   ]
  },
  {
   "cell_type": "code",
   "execution_count": 43,
   "id": "25bec1d5",
   "metadata": {},
   "outputs": [],
   "source": [
    "def calculate_block_centroids(blocks_gdf: gpd.GeoDataFrame) -> gpd.GeoDataFrame:\n",
    "    \"\"\"计算每个 block 的质心坐标（经纬度）。\"\"\"\n",
    "    print(\"计算 block 质心...\")\n",
    "    blocks = blocks_gdf.copy()\n",
    "    if blocks.crs is None:\n",
    "        raise ValueError(\"Block 数据缺少 CRS（坐标参考系）。请确保 shapefile 带有正确的 crs。\")\n",
    "    \n",
    "    if blocks.crs.is_geographic:\n",
    "        projected = blocks.to_crs('EPSG:32614')  # UTM Zone 14N（可按地区调整）\n",
    "        projected['centroid'] = projected.geometry.centroid\n",
    "        blocks['centroid'] = projected['centroid'].to_crs(blocks.crs)\n",
    "    else:\n",
    "        blocks['centroid'] = blocks.geometry.centroid\n",
    "    \n",
    "    blocks['centroid_lat'] = blocks['centroid'].y\n",
    "    blocks['centroid_lon'] = blocks['centroid'].x\n",
    "    return blocks\n"
   ]
  },
  {
   "cell_type": "code",
   "execution_count": 44,
   "id": "226d9c62",
   "metadata": {},
   "outputs": [],
   "source": [
    "def haversine_distance(lat1: float, lon1: float, lat2: float, lon2: float) -> float:\n",
    "    \"\"\"计算两点间的 Haversine 距离（公里）。\"\"\"\n",
    "    R = 6371.0088  # 地球半径 km\n",
    "    lat1, lon1, lat2, lon2 = map(math.radians, [lat1, lon1, lat2, lon2])\n",
    "    dlat = lat2 - lat1\n",
    "    dlon = lon2 - lon1\n",
    "    a = math.sin(dlat/2)**2 + math.cos(lat1) * math.cos(lat2) * math.sin(dlon/2)**2\n",
    "    return 2 * R * math.asin(math.sqrt(a))\n"
   ]
  },
  {
   "cell_type": "code",
   "execution_count": 45,
   "id": "8dbdbbaa",
   "metadata": {},
   "outputs": [],
   "source": [
    "def calculate_intra_taz_block_distances(\n",
    "    lodes_df: pd.DataFrame,\n",
    "    blocks_gdf: gpd.GeoDataFrame\n",
    ") -> Dict[str, Dict]:\n",
    "    \"\"\"计算每个 TAZ 内部基于 block 的距离统计。\"\"\"\n",
    "    print(\"计算 TAZ 内部 block 距离...\")\n",
    "    intra_taz_od = lodes_df[lodes_df['w_zone'] == lodes_df['h_zone']].copy()\n",
    "    print(f\"TAZ 内部 OD 记录数: {len(intra_taz_od)}\")\n",
    "    \n",
    "    # block -> (lat, lon)\n",
    "    block_coords = {\n",
    "        row['GEOID20']: {'lat': row['centroid_lat'], 'lon': row['centroid_lon']}\n",
    "        for _, row in blocks_gdf.iterrows()\n",
    "    }\n",
    "    \n",
    "    stats: Dict[str, Dict] = {}\n",
    "    for zone_id in intra_taz_od['w_zone'].unique():\n",
    "        zone_od = intra_taz_od[intra_taz_od['w_zone'] == zone_id]\n",
    "        distances = []\n",
    "        valid_pairs = 0\n",
    "        \n",
    "        for _, r in zone_od.iterrows():\n",
    "            w_geocode = r['w_geocode']\n",
    "            h_geocode = r['h_geocode']\n",
    "            if w_geocode == h_geocode:\n",
    "                continue\n",
    "            if w_geocode in block_coords and h_geocode in block_coords:\n",
    "                w = block_coords[w_geocode]\n",
    "                h = block_coords[h_geocode]\n",
    "                d = haversine_distance(w['lat'], w['lon'], h['lat'], h['lon'])\n",
    "                distances.append(d)\n",
    "                valid_pairs += 1\n",
    "        \n",
    "        if distances:\n",
    "            stats[str(zone_id)] = {\n",
    "                'mean_distance': float(np.mean(distances)),\n",
    "                'median_distance': float(np.median(distances)),\n",
    "                'min_distance': float(np.min(distances)),\n",
    "                'max_distance': float(np.max(distances)),\n",
    "                'std_distance': float(np.std(distances)),\n",
    "                'count_pairs': int(len(distances)),\n",
    "                'valid_pairs': int(valid_pairs),\n",
    "            }\n",
    "        else:\n",
    "            stats[str(zone_id)] = {\n",
    "                'mean_distance': 0.5,\n",
    "                'median_distance': 0.5,\n",
    "                'min_distance': 0.5,\n",
    "                'max_distance': 0.5,\n",
    "                'std_distance': 0.0,\n",
    "                'count_pairs': 0,\n",
    "                'valid_pairs': 0,\n",
    "            }\n",
    "    return stats\n"
   ]
  },
  {
   "cell_type": "code",
   "execution_count": 46,
   "id": "94944378",
   "metadata": {},
   "outputs": [],
   "source": [
    "def create_intra_zone_distances(\n",
    "    zones_df: pd.DataFrame,\n",
    "    taz_distance_stats: Dict[str, Dict],\n",
    "    method: str = \"mean\"\n",
    ") -> pd.DataFrame:\n",
    "    \"\"\"根据 TAZ 统计生成 i=j 的内部距离 DataFrame。\"\"\"\n",
    "    print(f\"创建基于 block 的 TAZ 内部距离（{method}）...\")\n",
    "    intra_distances = []\n",
    "    \n",
    "    for _, zone_row in zones_df.iterrows():\n",
    "        # 与脚本一致：将 zone 转成 int 再转 str，避免 '317.0' 之类\n",
    "        zone_id = str(int(zone_row['zone']))\n",
    "        padded_zone = zone_id.zfill(8)  # 仅补齐 i/j 到 8 位\n",
    "        \n",
    "        if zone_id in taz_distance_stats:\n",
    "            stats = taz_distance_stats[zone_id]\n",
    "            if method == \"mean\":\n",
    "                distance = stats['mean_distance']\n",
    "            elif method == \"median\":\n",
    "                distance = stats['median_distance']\n",
    "            elif method == \"min\":\n",
    "                distance = stats['min_distance']\n",
    "            elif method == \"max\":\n",
    "                distance = stats['max_distance']\n",
    "            else:\n",
    "                distance = stats['mean_distance']\n",
    "            \n",
    "            time_minutes = (distance / 30.0) * 60  # 假设平均速度 30 km/h\n",
    "            intra_distances.append({\n",
    "                'i': padded_zone,\n",
    "                'j': padded_zone,\n",
    "                'dist_km': distance,\n",
    "                'base_minutes': time_minutes\n",
    "            })\n",
    "            \n",
    "            if zone_id in ['317', '319', '320']:\n",
    "                print(f\"TAZ {zone_id}: 距离={distance:.3f} km, 时间={time_minutes:.2f} 分钟, 有效对={stats['valid_pairs']}\")\n",
    "        else:\n",
    "            intra_distances.append({\n",
    "                'i': padded_zone,\n",
    "                'j': padded_zone,\n",
    "                'dist_km': 0.5,\n",
    "                'base_minutes': 0.86\n",
    "            })\n",
    "            if zone_id in ['308', '317', '319', '320']:\n",
    "                print(f\"TAZ {zone_id}: 使用默认值 0.5 km (不在统计中)\")\n",
    "    \n",
    "    return pd.DataFrame(intra_distances)\n"
   ]
  },
  {
   "cell_type": "markdown",
   "id": "ca4903a3",
   "metadata": {},
   "source": [
    "## 运行：加载数据与计算质心"
   ]
  },
  {
   "cell_type": "code",
   "execution_count": 47,
   "id": "aca20791",
   "metadata": {},
   "outputs": [
    {
     "name": "stdout",
     "output_type": "stream",
     "text": [
      "加载 LODES 数据...\n"
     ]
    },
    {
     "name": "stdout",
     "output_type": "stream",
     "text": [
      "加载 Census Tract Block 数据...\n",
      "LODES 数据: 1327205 条记录\n",
      "Block 数据: 668757 个 block\n",
      "计算 block 质心...\n",
      "完成：数据与质心准备。\n"
     ]
    }
   ],
   "source": [
    "lodes_df, blocks_gdf = load_and_prepare_data(lodes_path, blocks_path)\n",
    "zones_df = pd.read_csv(zones_path)\n",
    "blocks_with_centroids = calculate_block_centroids(blocks_gdf)\n",
    "print(\"完成：数据与质心准备。\")"
   ]
  },
  {
   "cell_type": "markdown",
   "id": "52cc0bfd",
   "metadata": {},
   "source": [
    "## 运行：计算 TAZ 内部基于 block 的距离统计"
   ]
  },
  {
   "cell_type": "code",
   "execution_count": 48,
   "id": "87a8172f",
   "metadata": {},
   "outputs": [
    {
     "name": "stdout",
     "output_type": "stream",
     "text": [
      "计算 TAZ 内部 block 距离...\n",
      "TAZ 内部 OD 记录数: 20499\n",
      "\n",
      "=== TAZ 内部 Block 距离统计（概览） ===\n",
      "有有效数据的 TAZ 数量: 534\n",
      "平均距离范围: 0.080 - 4.701 km\n",
      "总体平均距离: 0.817 km\n"
     ]
    }
   ],
   "source": [
    "taz_distance_stats = calculate_intra_taz_block_distances(lodes_df, blocks_with_centroids)\n",
    "\n",
    "print(\"\\n=== TAZ 内部 Block 距离统计（概览） ===\")\n",
    "valid_tazs = [z for z in taz_distance_stats.values() if z['valid_pairs'] > 0]\n",
    "print(f\"有有效数据的 TAZ 数量: {len(valid_tazs)}\")\n",
    "if valid_tazs:\n",
    "    all_means = [t['mean_distance'] for t in valid_tazs]\n",
    "    print(f\"平均距离范围: {np.min(all_means):.3f} - {np.max(all_means):.3f} km\")\n",
    "    print(f\"总体平均距离: {np.mean(all_means):.3f} km\")\n"
   ]
  },
  {
   "cell_type": "markdown",
   "id": "3cfe43ee",
   "metadata": {},
   "source": [
    "## 运行：生成 i=j 的 TAZ 内部距离并保存（可选）"
   ]
  },
  {
   "cell_type": "code",
   "execution_count": 49,
   "id": "3ac4c377",
   "metadata": {},
   "outputs": [
    {
     "name": "stdout",
     "output_type": "stream",
     "text": [
      "创建基于 block 的 TAZ 内部距离（mean）...\n",
      "TAZ 308: 使用默认值 0.5 km (不在统计中)\n",
      "TAZ 317: 距离=0.311 km, 时间=0.62 分钟, 有效对=20\n",
      "TAZ 319: 距离=0.721 km, 时间=1.44 分钟, 有效对=52\n",
      "TAZ 320: 距离=0.558 km, 时间=1.12 分钟, 有效对=36\n",
      "\n",
      "=== 结果分析 ===\n",
      "TAZ 内部距离范围: 0.080 - 1.175 km\n",
      "TAZ 内部平均距离: 0.442 km\n",
      "TAZ 内部平均时间: 0.832 分钟\n",
      "TAZ 内部距离标准差: 0.165 km\n",
      "保存到: ../data/intra_zone_distances.parquet\n",
      "完成：保存结果 (parquet + csv)。\n"
     ]
    }
   ],
   "source": [
    "if not analyze_only:\n",
    "    intra_distances_df = create_intra_zone_distances(zones_df, taz_distance_stats, stat_method)\n",
    "    print(\"\\n=== 结果分析 ===\")\n",
    "    print(f\"TAZ 内部距离范围: {intra_distances_df['dist_km'].min():.3f} - {intra_distances_df['dist_km'].max():.3f} km\")\n",
    "    print(f\"TAZ 内部平均距离: {intra_distances_df['dist_km'].mean():.3f} km\")\n",
    "    print(f\"TAZ 内部平均时间: {intra_distances_df['base_minutes'].mean():.3f} 分钟\")\n",
    "    print(f\"TAZ 内部距离标准差: {intra_distances_df['dist_km'].std():.3f} km\")\n",
    "    \n",
    "    # 保存结果（Parquet + CSV）\n",
    "    print(f\"保存到: {output_path}\")\n",
    "    Path(output_path).parent.mkdir(parents=True, exist_ok=True)\n",
    "    intra_distances_df.to_parquet(output_path, index=False)\n",
    "\n",
    "    csv_path = str(Path(output_path).with_suffix(\".csv\"))\n",
    "    intra_distances_df.to_csv(csv_path, index=False, encoding=\"utf-8-sig\")\n",
    "    \n",
    "    print(f\"完成：保存结果 (parquet + csv)。\")\n",
    "else:\n",
    "    print(\"仅分析：未生成/保存 i=j 内部距离。\")\n"
   ]
  }
 ],
 "metadata": {
  "kernelspec": {
   "display_name": "Python 3",
   "language": "python",
   "name": "python3"
  },
  "language_info": {
   "codemirror_mode": {
    "name": "ipython",
    "version": 3
   },
   "file_extension": ".py",
   "mimetype": "text/x-python",
   "name": "python",
   "nbconvert_exporter": "python",
   "pygments_lexer": "ipython3",
   "version": "3.11.8"
  }
 },
 "nbformat": 4,
 "nbformat_minor": 5
}
